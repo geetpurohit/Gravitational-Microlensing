{
 "cells": [
  {
   "cell_type": "markdown",
   "metadata": {},
   "source": [
    "# Coding practical #4\n",
    "\n",
    "### General guidelines:\n",
    "* Make sure to put your name in the body of the notebook, and in the filename.\n",
    "* You may discuss these problems with other students in class, but you must turn in your own notebook.\n",
    "* List anyone with whom you discussed the work.\n",
    "* Please document your code, label your plots, and use markdown cells to add explanatory comments to the notebook. Remember to reflect on how you can be confident that your code is correct.\n",
    "* Feel free to leave specific questions for me in your notebook.\n",
    "* If you resubmit your work, clearly state what is new (within the notebook or as a Canvas comment) so I can evaluate the changes.\n",
    "* Save your notebook as a pdf file and submit it in Canvas before the deadline.\n",
    "\n",
    "You may not distribute this notebook beyond our class, or post it anywhere online, without permission from the instructor.\n",
    "\n",
    "### Specific instructions:\n",
    "\n",
    "As in Practical #3, consider a gravitational lens model that has a singular isothermal sphere with Einstein radius $b$ and an external shear $(\\gamma_c,\\gamma_s)$, whose lens potential $\\phi$ and first and second derivatives are:\n",
    "\\begin{eqnarray}\n",
    "  \\phi &=& b r + \\frac{\\gamma_c}{2}(x^2-y^2) + \\gamma_s x y \\\\\n",
    "  \\phi_x &=& \\frac{b x}{r} + \\gamma_c x + \\gamma_s y\\\\\n",
    "  \\phi_y &=& \\frac{b y}{r} + \\gamma_s x - \\gamma_c y \\\\\n",
    "  \\phi_{xx} &=& \\frac{b y^2}{r^3} + \\gamma_c \\\\\n",
    "  \\phi_{yy} &=& \\frac{b x^2}{r^3} - \\gamma_c \\\\\n",
    "  \\phi_{xy} &=& -\\frac{b x y}{r^3} + \\gamma_s\n",
    "\\end{eqnarray}\n",
    "where $r = \\sqrt{x^2+y^2}$ is the standard polar radius. Once again, the lens equation relates positions in the image plane $(x,y)$ and source plane $(u,v)$:\n",
    "\\begin{eqnarray}\n",
    "  u &=& x - \\phi_x \\\\\n",
    "  v &=& y - \\phi_y\n",
    "\\end{eqnarray}\n",
    "\n",
    "Suppose you have observed the two 4-image gravitational lenses given in the data files `lens1.txt` and `lens2.txt` (on Canvas). Your goal here is to fit a model to each lens: use optimization to find the best-fit values of the parameters $(b,\\gamma_c,\\gamma_s,u,v)$. For each lens, report the values of the best-fit parameters and make a figure showing the positions of the images and the critical curve in the image plane, and the position of the source and the caustic in the source plane. (Feel free to reuse your code for critical curves and caustics from prac:roots, but make sure it can use general values of the parameters.)"
   ]
  },
  {
   "cell_type": "raw",
   "metadata": {},
   "source": [
    "Author - Geet Purohit\n",
    "Version - 1.0\n",
    "\n",
    "Note - Unclear on find the \"he position of the source in the source plane\". My current idea is to graph lens1 txt in the source plane and see how it looks like compared to the caustic. Maybe then, we can conclusively determine where the source (the object being lensed) is. "
   ]
  },
  {
   "cell_type": "code",
   "execution_count": 1,
   "metadata": {},
   "outputs": [],
   "source": [
    "import numpy as np\n",
    "import matplotlib.pyplot as plt\n",
    "from scipy.optimize import fmin"
   ]
  },
  {
   "cell_type": "code",
   "execution_count": 2,
   "metadata": {},
   "outputs": [
    {
     "data": {
      "text/plain": [
       "<ErrorbarContainer object of 3 artists>"
      ]
     },
     "execution_count": 2,
     "metadata": {},
     "output_type": "execute_result"
    },
    {
     "data": {
      "image/png": "[encoded data removed]",
      "text/plain": [
       "<Figure size 720x360 with 2 Axes>"
      ]
     },
     "metadata": {
      "needs_background": "light"
     },
     "output_type": "display_data"
    }
   ],
   "source": [
    "data1 = np.loadtxt('lens1.txt')\n",
    "data2 = np.loadtxt('lens2.txt')\n",
    "\n",
    "f,ax=plt.subplots(1,2,figsize=(10,5))\n",
    "\n",
    "ax[0].axhline(0, alpha=.2)\n",
    "ax[0].axvline(0, alpha=.2)\n",
    "ax[0].set_title('Lens 1 Data Values')\n",
    "ax[0].errorbar(data1[:,0],data1[:,1],data1[:,2],fmt='.',color='black')\n",
    "ax[1].axhline(0, alpha=.2)\n",
    "ax[1].axvline(0, alpha=.2)\n",
    "ax[1].set_title('Lens 2 Data Values')\n",
    "ax[1].errorbar(data2[:,0],data2[:,1],data2[:,2],fmt='.',color='black')"
   ]
  },
  {
   "cell_type": "code",
   "execution_count": 3,
   "metadata": {},
   "outputs": [],
   "source": [
    "def θ_x (x, y, b, γ_c, γ_s): return b*x * ((x**2 + y**2)**(0.5))**-1 + (γ_c * x) + (γ_s * y)\n",
    "def θ_y (x, y, b, γ_c, γ_s): return b*y * ((x**2 + y**2)**(0.5))**-1 + (γ_s * x) - (γ_c * y) \n",
    "def θ_xx(x, y, b, γ_c, γ_s): return b*y**2 * ((x**2 + y**2)**(0.5))**-3 + γ_c\n",
    "def θ_yy(x, y, b, γ_c, γ_s): return b*x**2 * ((x**2 + y**2)**(0.5))**-3 - γ_c\n",
    "def θ_xy(x, y, b, γ_c, γ_s): return (-1) * b*x * y * ((x**2 + y**2)**(0.5))**-3 + γ_s\n",
    "\n",
    "def μ_inverse(x, y, b, γ_c, γ_s): #when this will equal 0, the set of points will be the critical curve\n",
    "    return ((1 - θ_xx(x, y, b, γ_c, γ_s))*(1 - θ_yy(x, y, b, γ_c, γ_s)) - (θ_xy(x, y, b, γ_c, γ_s))**2)**(-1)\n",
    "\n",
    "def axes(n): #we plot the vertical and horizontal axes for better visualization of the plots\n",
    "    ax[n].axhline(0, alpha=.2)\n",
    "    ax[n].axvline(0, alpha=.2)"
   ]
  },
  {
   "cell_type": "code",
   "execution_count": 4,
   "metadata": {},
   "outputs": [],
   "source": [
    "def chisq(par,data):\n",
    "    # extract the parameters from parr\n",
    "    b   = par[0]\n",
    "    γ_c = par[1]\n",
    "    γ_s = par[2]\n",
    "    u   = par[3]\n",
    "    v   = par[4]\n",
    "    # compute chisq and return\n",
    "    chisq = np.sum(((data[:,0]-θ_x(data[:,0],data[:,1],b, γ_c, γ_s)-u)**2+\n",
    "                   (data[:,1]-θ_y(data[:,0],data[:,1],b, γ_c, γ_s)-v)**2)/data[:,2]**2)\n",
    "    return chisq\n",
    "\n",
    "def lnprob(par,data):\n",
    "    return -0.5*chisqB(par,data)"
   ]
  },
  {
   "cell_type": "code",
   "execution_count": 5,
   "metadata": {},
   "outputs": [
    {
     "name": "stdout",
     "output_type": "stream",
     "text": [
      "Optimization terminated successfully.\n",
      "         Current function value: 0.221483\n",
      "         Iterations: 213\n",
      "         Function evaluations: 339\n",
      "Optimization terminated successfully.\n",
      "         Current function value: 0.105693\n",
      "         Iterations: 194\n",
      "         Function evaluations: 319\n",
      "[ 1.2007081   0.09973486  0.20029372 -0.21991045  0.09967766]\n",
      "[ 0.94927667  0.02003342 -0.11990551  0.08161384  0.0996301 ]\n",
      "[[-5.         -4.98998999 -4.97997998 ...  4.97997998  4.98998999\n",
      "   5.        ]\n",
      " [-5.         -4.98998999 -4.97997998 ...  4.97997998  4.98998999\n",
      "   5.        ]\n",
      " [-5.         -4.98998999 -4.97997998 ...  4.97997998  4.98998999\n",
      "   5.        ]\n",
      " ...\n",
      " [-5.         -4.98998999 -4.97997998 ...  4.97997998  4.98998999\n",
      "   5.        ]\n",
      " [-5.         -4.98998999 -4.97997998 ...  4.97997998  4.98998999\n",
      "   5.        ]\n",
      " [-5.         -4.98998999 -4.97997998 ...  4.97997998  4.98998999\n",
      "   5.        ]]\n"
     ]
    }
   ],
   "source": [
    "best1 = fmin(chisq,[1,0.15,0.15,0.1,0.1],args=(data1,))\n",
    "best2 = fmin(chisq,[1,0.15,0.15,0.1,0.1],args=(data2,))\n",
    "print(best1)\n",
    "print(best2)\n",
    "xrange = np.linspace(-5, 5, 1000) \n",
    "yrange = np.linspace(-5, 5, 1000)\n",
    "xt, yt= np.meshgrid(xrange, yrange)"
   ]
  },
  {
   "cell_type": "code",
   "execution_count": 19,
   "metadata": {},
   "outputs": [
    {
     "data": {
      "image/png": "[encoded data removed]",
      "text/plain": [
       "<Figure size 432x288 with 1 Axes>"
      ]
     },
     "metadata": {
      "needs_background": "light"
     },
     "output_type": "display_data"
    }
   ],
   "source": [
    "f= plt.contour(xt, yt, μ_inverse(xt, yt, best1[0], best1[1], best1[2]), [0], colors='k')\n",
    "v = f.collections[0].get_paths()[0].vertices\n",
    "xx = v[:,0] #extract the x values\n",
    "yy = v[:,1] #extract the y values\n",
    "uu, vv = ([] for j in range(2)) \n",
    "for i in range(len(xx)):\n",
    "    uu.append(xx[i] - θ_x(xx[i], yy[i], best1[0], best1[1], best1[2])) #transform the critical points into the caustic ones\n",
    "    vv.append(yy[i] - θ_y(xx[i], yy[i], best1[0], best1[1], best1[2])) \n",
    "plt.title('Lens 1 Observation + Caustic + Source')\n",
    "plt.xlim(-3,3)\n",
    "plt.ylim(-3,3)\n",
    "plt.axhline(0, alpha=.2)\n",
    "plt.axvline(0, alpha=.2)\n",
    "plt.plot(uu, vv, 'k')\n",
    "plt.errorbar(data1[:,0],data1[:,1],data1[:,2],fmt='.',color='r')\n",
    "axes(1)"
   ]
  },
  {
   "cell_type": "code",
   "execution_count": 17,
   "metadata": {},
   "outputs": [
    {
     "data": {
      "image/png": "[encoded data removed]",
      "text/plain": [
       "<Figure size 432x288 with 1 Axes>"
      ]
     },
     "metadata": {
      "needs_background": "light"
     },
     "output_type": "display_data"
    }
   ],
   "source": [
    "f = plt.contour(xt, yt, μ_inverse(xt, yt, best2[0], best2[1], best2[2]), [0], colors='k') \n",
    "v = f.collections[0].get_paths()[0].vertices #get the vertices (the x,y pairs) \n",
    "xx = v[:,0] #extract the x values\n",
    "yy = v[:,1] #extract the y values\n",
    "uu, vv = ([] for i in range(2)) \n",
    "for i in range(len(xx)):\n",
    "    uu.append(xx[i] - θ_x(xx[i], yy[i], best2[0], best2[1], best2[2])) \n",
    "    vv.append(yy[i] - θ_y(xx[i], yy[i], best2[0], best2[1], best2[2]))\n",
    "    \n",
    "plt.title('Lens 2 Observation + Caustic + Source')\n",
    "plt.xlim(-2,2)\n",
    "plt.ylim(-2,2)\n",
    "plt.axhline(0, alpha=.2)\n",
    "plt.axvline(0, alpha=.2)\n",
    "plt.plot(uu, vv, 'k')\n",
    "plt.errorbar(data2[:,0],data2[:,1],data2[:,2],fmt='.',color='r')\n",
    "axes(1)"
   ]
  },
  {
   "cell_type": "code",
   "execution_count": null,
   "metadata": {},
   "outputs": [],
   "source": []
  }
 ],
 "metadata": {
  "anaconda-cloud": {},
  "kernelspec": {
   "display_name": "Python 3",
   "language": "python",
   "name": "python3"
  },
  "language_info": {
   "codemirror_mode": {
    "name": "ipython",
    "version": 3
   },
   "file_extension": ".py",
   "mimetype": "text/x-python",
   "name": "python",
   "nbconvert_exporter": "python",
   "pygments_lexer": "ipython3",
   "version": "3.8.8"
  }
 },
 "nbformat": 4,
 "nbformat_minor": 1
}
