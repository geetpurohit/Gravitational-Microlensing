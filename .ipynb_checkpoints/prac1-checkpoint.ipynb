{
 "cells": [
  {
   "cell_type": "markdown",
   "metadata": {},
   "source": [
    "# Coding practical #1\n",
    "\n",
    "### General guidelines:\n",
    "* Make sure to put your name in the body of the notebook, and in the filename.\n",
    "* You may discuss these problems with other students in class, but you must turn in your own notebook.\n",
    "* List anyone with whom you discussed the work.\n",
    "* Please document your code, label your plots, and use markdown cells to add explanatory comments to the notebook. Remember to reflect on how you can be confident that your code is correct.\n",
    "* Feel free to leave specific questions for me in your notebook.\n",
    "* If you resubmit your work, clearly state what is new (within the notebook or as a Canvas comment) so I can evaluate the changes.\n",
    "* Save your notebook as a pdf file and submit it in Canvas before the deadline.\n",
    "\n",
    "You may not distribute this notebook beyond our class, or post it anywhere online, without permission from the instructor.\n",
    "\n",
    "### Specific instructions:\n",
    "\n",
    "Your goal here is to practice working with python and numpy commands: loops, lists, arrays, slicing, etc. Here are the specific tasks:\n",
    "\n",
    "- Create a list containing the first five odd numbers. Do this three ways: (i) by hand, (ii) using a for loop, and (iii) using list comprehension. Then extract the *first* three elements of the list, and the *last* three elements.\n",
    "\n",
    "- Create a 2-d list in which each element contains an integer and a letter. The integer should loop over (0,1,2) while the letter should loop over (a,b,c). Does the order of loops matter?\n",
    "\n",
    "- Generate an array containing integers from to 0 to 14, then find an automated way to change the sign of all the multiples of 3.\n",
    "\n",
    "- Write a function to determine whether an integer is prime. Then check all integers from 1 to 20 and separate them into a list of primes and a list of numbers that are not prime.\n",
    "\n",
    "- Create a column matrix with $i$ in the first column, $i^2$ in the second column, and $i^3$ in the third column, for $i$ from 1 to 7. To practice working with files, write your matrix to a file and read it back in. Do all of this using *only* numpy commands (i.e., do *not* explicitly write any for loops)."
   ]
  },
  {
   "cell_type": "raw",
   "metadata": {},
   "source": [
    "Author - Geet Purohit\n",
    "Submission - 1st time"
   ]
  },
  {
   "cell_type": "code",
   "execution_count": 1,
   "metadata": {},
   "outputs": [],
   "source": [
    "#import the necessary libraries\n",
    "import numpy as np"
   ]
  },
  {
   "cell_type": "code",
   "execution_count": 2,
   "metadata": {},
   "outputs": [
    {
     "name": "stdout",
     "output_type": "stream",
     "text": [
      "[1, 3, 5, 7, 9]\n",
      "[1, 3, 5, 7, 9]\n",
      "[1, 3, 5, 7, 9]\n"
     ]
    }
   ],
   "source": [
    "#Create a list containing the first five odd numbers manually by hand\n",
    "list1 = [1,3,5,7,9] #declare a list containing the first five odd numbers (which is like doing it manually)\n",
    "print(list1)\n",
    "\n",
    "#now, using a for loop\n",
    "list2 = [] #i declare an empty list\n",
    "for i in range(5): list2.append(2*i + 1) #for integer i in [1,5), append 2i+1 to the array since 2i+1 is odd\n",
    "print(list2)\n",
    "\n",
    "#now, using list comprehension\n",
    "#for a list integers [1,10), if the current integer is odd, only then append (add) it to this new list\n",
    "list3 = [x for x in range(10) if x%2 == 1] \n",
    "print(list3)"
   ]
  },
  {
   "cell_type": "code",
   "execution_count": 3,
   "metadata": {},
   "outputs": [
    {
     "name": "stdout",
     "output_type": "stream",
     "text": [
      "[['1a' '1b' '1c']\n",
      " ['2a' '2b' '2c']\n",
      " ['3a' '3b' '3c']]\n",
      "\n",
      "Does the order of loops matter?\n",
      "The order of the loops does matter; it dictates the order of the elements\n",
      "For example, this is what it would look like if the order of the loops were changed:\n",
      "\n",
      "[['a1' 'a2' 'a3']\n",
      " ['b1' 'b2' 'b3']\n",
      " ['c1' 'c2' 'c3']]\n"
     ]
    }
   ],
   "source": [
    "#Create a 2-d list in which each element contains an integer and a letter. \n",
    "#The integer should loop over (0,1,2) while the letter should loop over (a,b,c).\n",
    "\n",
    "col1, col2, col3, col4 = ([] for i in range(4)) #declare four empty arrays, one for each column and one mega array that is gonna house them\n",
    "for i in range(1, 4): #[1,3)\n",
    "    for j in ['a', 'b', 'c']: \n",
    "        if i == 1: col1.append(str(i) + j) #here for each iteration of i in [1,3), append the a,b,c to that iteration's own separate column\n",
    "        if i == 2: col2.append(str(i) + j) #second column\n",
    "        if i == 3: col3.append(str(i) + j) #third column\n",
    "    \n",
    "megacol = (col1, col2, col3) #make all those column arrays into a tuple\n",
    "twodeelist = np.vstack(megacol) #stack them vertically\n",
    "print(twodeelist)\n",
    "print('\\nDoes the order of loops matter?\\nThe order of the loops does matter; it dictates the order of the elements\\nFor example, this is what it would look like if the order of the loops were changed:\\n')\n",
    "col1, col2, col3, col4 = ([] for i in range(4)) #declare four empty arrays, one for each column and one mega array that is gonna house them\n",
    "for i in ['a', 'b', 'c']:\n",
    "    for j in range(1, 4): #[1,3):\n",
    "        if i == 'a': col1.append(i + str(j)) #basically same as above but reversed the order of the loops \n",
    "        if i == 'b': col2.append(i + str(j))\n",
    "        if i == 'c': col3.append(i + str(j))\n",
    "\n",
    "megacol = (col1, col2, col3)\n",
    "twodeelist_switched_loop_order = np.vstack(megacol)\n",
    "print(twodeelist_switched_loop_order)\n",
    "\n"
   ]
  },
  {
   "cell_type": "code",
   "execution_count": 4,
   "metadata": {},
   "outputs": [
    {
     "name": "stdout",
     "output_type": "stream",
     "text": [
      "[0, 1, 2, -3, 4, 5, -6, 7, 8, -9, 10, 11, -12, 13, 14]\n"
     ]
    }
   ],
   "source": [
    "#Generate an array containing integers from to 0 to 14, automated the way to change the sign of all the multiples of 3.\n",
    "arr = [-x if x%3 == 0 else x for x in range(15)] #for x in [1,15), append x, but if the number is a multiple of 3, then append -x instead\n",
    "print(arr)"
   ]
  },
  {
   "cell_type": "code",
   "execution_count": 5,
   "metadata": {},
   "outputs": [
    {
     "name": "stdout",
     "output_type": "stream",
     "text": [
      "\n",
      "For the function that checks if a given integer x is prime,\n",
      "I will check for factors until I hit √x. This is because for \n",
      "a non-prime integer x, it can be factored into two factors a \n",
      "and b, such that a * b = x. Both a and b can't be greater \n",
      "than √n. This is because if they were, then the product \n",
      "a * b would be greater than √n * √n, which is n.\n",
      "\n",
      "The original array of numbers is ---> [0, 1, 2, 3, 4, 5, 6, 7, 8, 9, 10, 11, 12, 13, 14, 15, 16, 17, 18, 19, 20]\n",
      "The prime array is               ---> [2, 3, 5, 7, 11, 13, 17, 19]\n",
      "The composite array is           ---> [0, 1, 4, 6, 8, 9, 10, 12, 14, 15, 16, 18, 20]\n"
     ]
    }
   ],
   "source": [
    "print(\n",
    "'''\n",
    "For the function that checks if a given integer x is prime,\n",
    "I will check for factors until I hit √x. This is because for \n",
    "a non-prime integer x, it can be factored into two factors a \n",
    "and b, such that a * b = x. Both a and b can\\'t be greater \n",
    "than √n. This is because if they were, then the product \n",
    "a * b would be greater than √n * √n, which is n.\n",
    "'''\n",
    ")\n",
    "#Write a function to determine whether an integer is prime. Check 1-20 and separate them\n",
    "def isPrime(n):\n",
    "    m = 0 #this is a counter to hold the memory of it being a composite number (i.e n being wholly divided by i)\n",
    "    if(n > 1):\n",
    "        for i in range(2, int(np.sqrt(n)) + 1): # i proved this in the sentence before the function declaration\n",
    "            if (n % i == 0): #if there is a factor\n",
    "                m = 1 #store that information\n",
    "                break #exit for loop\n",
    "        return True if (m == 0) else False #return true or false based on prime vs composite\n",
    "    else: return False\n",
    "\n",
    "prime, nonprime = ([] for i in range(2)) #declare two empty arrays\n",
    "for x in range(21): #x in [1,21)\n",
    "    prime.append(x) if isPrime(x) else nonprime.append(x) #isPrime returns a boolean, so append to prime if true, else append to composite\n",
    "print('The original array of numbers is --->', list(range(21)))\n",
    "print('The prime array is               --->', prime)\n",
    "print('The composite array is           --->', nonprime)"
   ]
  },
  {
   "cell_type": "code",
   "execution_count": 6,
   "metadata": {},
   "outputs": [
    {
     "name": "stdout",
     "output_type": "stream",
     "text": [
      "[[  1   2   3   4   5   6   7]\n",
      " [  1   4   9  16  25  36  49]\n",
      " [  1   8  27  64 125 216 343]]\n"
     ]
    }
   ],
   "source": [
    "#create a column matrix with i^n from 1 to 3, and for i from 1 to 7\n",
    "def createcolumn(n): \n",
    "    return np.power(np.array([list(range(1, 8))]), n) #returns a column array of (1, .., 7)^{nth power}\n",
    "listt = list(map(lambda n:createcolumn(n), range(1, 4))) #maps(passes) a power to the function for each iteration of [1,4) \n",
    "res = np.vstack(listt)\n",
    "print(res)"
   ]
  }
 ],
 "metadata": {
  "kernelspec": {
   "display_name": "Python 3",
   "language": "python",
   "name": "python3"
  },
  "language_info": {
   "codemirror_mode": {
    "name": "ipython",
    "version": 3
   },
   "file_extension": ".py",
   "mimetype": "text/x-python",
   "name": "python",
   "nbconvert_exporter": "python",
   "pygments_lexer": "ipython3",
   "version": "3.8.8"
  }
 },
 "nbformat": 4,
 "nbformat_minor": 4
}
